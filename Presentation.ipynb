{
 "cells": [
  {
   "cell_type": "markdown",
   "id": "07a2c869",
   "metadata": {},
   "source": [
    "# API"
   ]
  },
  {
   "cell_type": "code",
   "execution_count": 9,
   "id": "05d61e3f",
   "metadata": {},
   "outputs": [],
   "source": [
    "import requests"
   ]
  },
  {
   "cell_type": "code",
   "execution_count": 10,
   "id": "e0c33bec",
   "metadata": {},
   "outputs": [
    {
     "data": {
      "text/plain": [
       "'{\"valence and arousal\":2}'"
      ]
     },
     "execution_count": 10,
     "metadata": {},
     "output_type": "execute_result"
    }
   ],
   "source": [
    "# example of adding new text\n",
    "url = \"http://127.0.0.1:8000/store_data?user_id=22&text=i%20find%20myself%20smiling%20at%20their%20feelings%20towards%20me%20and%20almost%20feeling%20affectionate%20towards%20them\"\n",
    "\n",
    "data = {'user_id': 22,\n",
    "        'text': \"i find myself smiling at their feelings towards me and almost feeling affectionate towards them\"}\n",
    "\n",
    "response = requests.post(url, data)\n",
    "\n",
    "response.text"
   ]
  },
  {
   "cell_type": "code",
   "execution_count": 13,
   "id": "4fba54f6",
   "metadata": {},
   "outputs": [
    {
     "data": {
      "text/plain": [
       "'{\"valence and arousal\":\"2\"}'"
      ]
     },
     "execution_count": 13,
     "metadata": {},
     "output_type": "execute_result"
    }
   ],
   "source": [
    "# exmample of adding new lyrics\n",
    "url = \"http://127.0.0.1:8000/store_data?user_id=22&lyrics=Baby%2C%20can%27t%20you%20see%20I%27m%20calling%3F%20A%20guy%20like%20you%20should%20wear%20a%20warning%20It%27s%20dangerous%2C%20I%27m%20falling%20There%27s%20no%20escape%2C%20I%20can%27t%20wait%20I%20need%20a%20hit%2C%20baby%2C%20give%20me%20it%20You%27re%20dangerous%2C%20I%27m%20loving%20it%20Too%20high%2C%20can%27t%20come%20down%20Losing%20my%20head%2C%20spinnin%27%20%27round%20and%20%27round%20Do%20you%20feel%20me%20now%3F%20With%20a%20taste%20of%20your%20lips%2C%20I%27m%20on%20a%20ride%20You%27re%20toxic%2C%20I%27m%20slippin%27%20under%20With%20a%20taste%20of%20a%20poison%20paradise%20I%27m%20addicted%20to%20you%20Don%27t%20you%20know%20that%20you%27re%20toxic%3F%20And%20I%20love%20what%20you%20do%20Don%27t%20you%20know%20that%20you%27re%20toxic%3F%20It%27s%20getting%20late%20to%20give%20you%20up%20I%20took%20a%20sip%20from%20my%20devil%27s%20cup%20Slowly%2C%20it%27s%20taking%20over%20me%20Too%20high%2C%20can%27t%20come%20down%20It%27s%20in%20the%20air%20and%20it%27s%20all%20around%20Can%20you%20feel%20me%20now%3F%20With%20a%20taste%20of%20your%20lips%2C%20I%27m%20on%20a%20ride%20You%27re%20toxic%2C%20I%27m%20slippin%27%20under%20With%20a%20taste%20of%20a%20poison%20paradise%20I%27m%20addicted%20to%20you%20Don%27t%20you%20know%20that%20you%27re%20toxic%3F%20And%20I%20love%20what%20you%20do%20Don%27t%20you%20know%20that%20you%27re%20toxic%3F%20Don%27t%20you%20know%20that%20you%27re%20toxic%3F%20Taste%20of%20your%20lips%2C%20I%27m%20on%20a%20ride%20You%27re%20toxic%2C%20I%27m%20slippin%27%20under%20With%20a%20taste%20of%20a%20poison%20paradise%20I%27m%20addicted%20to%20you%20Don%27t%20you%20know%20that%20you%27re%20toxic%3F%20With%20a%20taste%20of%20your%20lips%2C%20I%27m%20on%20a%20ride%20You%27re%20toxic%2C%20I%27m%20slippin%27%20under%20%28toxic%29%20With%20a%20taste%20of%20a%20poison%20paradise%20I%27m%20addicted%20to%20you%20Don%27t%20you%20know%20that%20you%27re%20toxic%3F%20Intoxicate%20me%20now%2C%20with%20your%20lovin%27%20now%20I%20think%20I%27m%20ready%20now%2C%20I%20think%20I%27m%20ready%20now%20Intoxicate%20me%20now%2C%20with%20your%20lovin%27%20now%20I%20think%20I%27m%20ready%20now&artist=Britney%20Spears&track=Toxic&genre=pop\"\n",
    "\n",
    "data = {'user_id': 22,\n",
    "       'artist': 'Britney Spears',\n",
    "       'track': 'Toxic',\n",
    "       'genre': 'pop',\n",
    "       'lyrics': \"\"\"Baby, can't you see I'm calling?\n",
    "        A guy like you should wear a warning\n",
    "        It's dangerous, I'm falling\n",
    "        There's no escape, I can't wait\n",
    "        I need a hit, baby, give me it\n",
    "        You're dangerous, I'm loving it\n",
    "        Too high, can't come down\n",
    "        Losing my head, spinnin' 'round and 'round\n",
    "        Do you feel me now?\n",
    "        With a taste of your lips, I'm on a ride\n",
    "        You're toxic, I'm slippin' under\n",
    "        With a taste of a poison paradise\n",
    "        I'm addicted to you\n",
    "        Don't you know that you're toxic?\n",
    "        And I love what you do\n",
    "        Don't you know that you're toxic?\n",
    "        It's getting late to give you up\n",
    "        I took a sip from my devil's cup\n",
    "        Slowly, it's taking over me\n",
    "        Too high, can't come down\n",
    "        It's in the air and it's all around\n",
    "        Can you feel me now?\n",
    "        With a taste of your lips, I'm on a ride\n",
    "        You're toxic, I'm slippin' under\n",
    "        With a taste of a poison paradise\n",
    "        I'm addicted to you\n",
    "        Don't you know that you're toxic?\n",
    "        And I love what you do\n",
    "        Don't you know that you're toxic?\n",
    "        Don't you know that you're toxic?\n",
    "        Taste of your lips, I'm on a ride\n",
    "        You're toxic, I'm slippin' under\n",
    "        With a taste of a poison paradise\n",
    "        I'm addicted to you\n",
    "        Don't you know that you're toxic?\n",
    "        With a taste of your lips, I'm on a ride\n",
    "        You're toxic, I'm slippin' under (toxic)\n",
    "        With a taste of a poison paradise\n",
    "        I'm addicted to you\n",
    "        Don't you know that you're toxic?\n",
    "        Intoxicate me now, with your lovin' now\n",
    "        I think I'm ready now, I think I'm ready now\n",
    "        Intoxicate me now, with your lovin' now\n",
    "        I think I'm ready now\"\"\"}\n",
    "\n",
    "response = requests.post(url, data)\n",
    "\n",
    "response.text"
   ]
  },
  {
   "cell_type": "code",
   "execution_count": 11,
   "id": "745f4fb3",
   "metadata": {},
   "outputs": [
    {
     "data": {
      "text/plain": [
       "'{\"artist\":\"Alaska\",\"track\":\"Bloodfeast\",\"genre\":\"rock\"}'"
      ]
     },
     "execution_count": 11,
     "metadata": {},
     "output_type": "execute_result"
    }
   ],
   "source": [
    "# example of asking for recommendation\n",
    "url = \"http://127.0.0.1:8000/recommend?user_id=22\"\n",
    "\n",
    "data = {'user_id': 22}\n",
    "\n",
    "response = requests.get(url, data)\n",
    "\n",
    "response.text"
   ]
  },
  {
   "cell_type": "code",
   "execution_count": null,
   "id": "16cdb2d4",
   "metadata": {},
   "outputs": [],
   "source": []
  }
 ],
 "metadata": {
  "kernelspec": {
   "display_name": "Python 3 (ipykernel)",
   "language": "python",
   "name": "python3"
  },
  "language_info": {
   "codemirror_mode": {
    "name": "ipython",
    "version": 3
   },
   "file_extension": ".py",
   "mimetype": "text/x-python",
   "name": "python",
   "nbconvert_exporter": "python",
   "pygments_lexer": "ipython3",
   "version": "3.9.7"
  }
 },
 "nbformat": 4,
 "nbformat_minor": 5
}
