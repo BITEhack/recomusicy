{
 "cells": [
  {
   "cell_type": "markdown",
   "id": "72ddf651",
   "metadata": {},
   "source": [
    "# System rekomandacujny muzykę normalizujący samopoczucie dla portali streamujących\n",
    "\n",
    "-----\n",
    "\n",
    "### Valance oraz arousal\n",
    "Nasze rozwiązanie opiera się o dwa wskaźniki emocji - valance oraz arousal. Pierwszy z nich opisuje to, czy człowiek jest nastawiony pozytywnie czy nie, a druga, czy jest podekscytowany, czy nie\n",
    "\n",
    "Okazuje się, że możemy te wskaźniki przypisywać również do tekstów, zdjęc, i co najważniejsze w naszym projekcie, także muzyki...\n",
    "\n",
    "-----\n",
    "\n",
    "### Koncept rozwiązania\n",
    "\n",
    "----- \n",
    "\n",
    "Storzony przez nas system umożliwa ocenę wcześniej wspominaych valance oraz arousal dla zdjęć oraz tekstów, w tym dla tesktów piosenek. Rozwiąznie jest narzędziem, z któego może korzytsać serwis streamujący muzykę. \n",
    "\n",
    "Jest to API, do którego można postować teskty piosenek, jakich w danym momencie słucha użytkownik. Narzędzie sprawdza, z pomocą modelu opartego o sieć neuronową valance oraz arousal, i jesli jest on nieporządany, może zarekomendować odpowiedni utwór, który, na podstawie danych z przeszłosci jest w stanie wpływnąć na emocje użytkownika. \n",
    "\n",
    "Serwis korzytajacy z naszego narzędzia, może dodatkowo, jeśli obsługuje takie media, wyznaczać valance oraz arousal dla tekstów postów oraz zdjęć, które za równo użytkownik publikuje, jaki i przegląda. Wtedy jednak wciąż nasze narzędzie może zarekomendować odpowiednie utwory.\n",
    "\n",
    "Model do rozpoznawania emocji na zdjęciach oparty jest o konwulencyjną sieć neuronową, natomiast do rozpoznawania emocji na wpisach w opraciu grid search oraz regresję logistyczną.\n",
    "\n",
    "-----\n",
    "\n",
    "### Działanie narzędzia\n",
    "\n",
    "Dane do testowania serwisu zostały wygenerowane sztucznie, niestetey nie udało się znaleźć odpowiedniego datasetu. Same modele do wyzanczania emocji zostały oczywiście wytrenowane w opraciu rzeczywsite dane."
   ]
  },
  {
   "cell_type": "code",
   "execution_count": null,
   "id": "05d61e3f",
   "metadata": {},
   "outputs": [],
   "source": []
  },
  {
   "cell_type": "code",
   "execution_count": null,
   "id": "e0c33bec",
   "metadata": {},
   "outputs": [],
   "source": []
  },
  {
   "cell_type": "code",
   "execution_count": null,
   "id": "a2a2ea09",
   "metadata": {},
   "outputs": [],
   "source": []
  },
  {
   "cell_type": "code",
   "execution_count": null,
   "id": "a64c0863",
   "metadata": {},
   "outputs": [],
   "source": []
  },
  {
   "cell_type": "code",
   "execution_count": null,
   "id": "70322dea",
   "metadata": {},
   "outputs": [],
   "source": []
  },
  {
   "cell_type": "code",
   "execution_count": null,
   "id": "ecd795d0",
   "metadata": {},
   "outputs": [],
   "source": []
  },
  {
   "cell_type": "code",
   "execution_count": null,
   "id": "15cdec9a",
   "metadata": {},
   "outputs": [],
   "source": []
  },
  {
   "cell_type": "code",
   "execution_count": null,
   "id": "f87a588b",
   "metadata": {},
   "outputs": [],
   "source": []
  },
  {
   "cell_type": "code",
   "execution_count": null,
   "id": "673b0ba4",
   "metadata": {},
   "outputs": [],
   "source": []
  },
  {
   "cell_type": "code",
   "execution_count": null,
   "id": "2f27cdb9",
   "metadata": {},
   "outputs": [],
   "source": []
  },
  {
   "cell_type": "code",
   "execution_count": null,
   "id": "2ef66060",
   "metadata": {},
   "outputs": [],
   "source": []
  },
  {
   "cell_type": "code",
   "execution_count": null,
   "id": "810f1213",
   "metadata": {},
   "outputs": [],
   "source": []
  },
  {
   "cell_type": "code",
   "execution_count": null,
   "id": "745f4fb3",
   "metadata": {},
   "outputs": [],
   "source": []
  }
 ],
 "metadata": {
  "kernelspec": {
   "display_name": "Python 3",
   "language": "python",
   "name": "python3"
  },
  "language_info": {
   "codemirror_mode": {
    "name": "ipython",
    "version": 3
   },
   "file_extension": ".py",
   "mimetype": "text/x-python",
   "name": "python",
   "nbconvert_exporter": "python",
   "pygments_lexer": "ipython3",
   "version": "3.8.8"
  }
 },
 "nbformat": 4,
 "nbformat_minor": 5
}
