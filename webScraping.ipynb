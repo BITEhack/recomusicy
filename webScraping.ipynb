{
 "cells": [
  {
   "cell_type": "code",
   "execution_count": 85,
   "metadata": {},
   "outputs": [],
   "source": [
    "import requests\n",
    "from bs4 import BeautifulSoup\n",
    "import time"
   ]
  },
  {
   "cell_type": "code",
   "execution_count": 87,
   "metadata": {},
   "outputs": [],
   "source": [
    "def get_text_from_genius_of(author, title):\n",
    "    author = author.replace(\" \", \"-\")\n",
    "    title = title.replace(\" \", \"-\")\n",
    "    URL = \"https://genius.com/\" + author + \"-\" + title + \"-lyrics\"\n",
    "    page = requests.get(URL)\n",
    "    soup = BeautifulSoup(page.content, \"html.parser\")\n",
    "    \n",
    "    lyrics = \"\"\n",
    "    \n",
    "    lyrics_containers = soup.find_all(\"div\", {\"data-lyrics-container\" : \"true\"})\n",
    "    \n",
    "    if len(lyrics_containers) == 0:\n",
    "        return None\n",
    "    \n",
    "    for lyrics_container in lyrics_containers:\n",
    "        for br in lyrics_container.find_all(\"br\"):\n",
    "            br.replace_with(\"\\n\")\n",
    "        lyrics += lyrics_container.text\n",
    "    \n",
    "    next_brackets = lyrics.find(\"[\")\n",
    "    while next_brackets != -1:\n",
    "        lyrics = lyrics[:next_brackets] + lyrics[lyrics.find(\"]\")+1:]\n",
    "        next_brackets = lyrics.find(\"[\")\n",
    "    \n",
    "    lyrics = lyrics.replace(\"\\n\\n\", \"\\n\").replace(\"\\n\", \" \")\n",
    "    return lyrics"
   ]
  },
  {
   "cell_type": "code",
   "execution_count": null,
   "metadata": {
    "scrolled": false
   },
   "outputs": [],
   "source": [
    "for i in range(100):\n",
    "    get_text_from_genius_of(\"Eminem\", \"kill you\")"
   ]
  },
  {
   "cell_type": "code",
   "execution_count": null,
   "metadata": {},
   "outputs": [],
   "source": []
  }
 ],
 "metadata": {
  "kernelspec": {
   "display_name": "Python 3",
   "language": "python",
   "name": "python3"
  },
  "language_info": {
   "codemirror_mode": {
    "name": "ipython",
    "version": 3
   },
   "file_extension": ".py",
   "mimetype": "text/x-python",
   "name": "python",
   "nbconvert_exporter": "python",
   "pygments_lexer": "ipython3",
   "version": "3.8.10"
  }
 },
 "nbformat": 4,
 "nbformat_minor": 4
}
