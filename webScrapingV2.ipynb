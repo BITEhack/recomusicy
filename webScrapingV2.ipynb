{
 "cells": [
  {
   "cell_type": "code",
   "execution_count": 2,
   "metadata": {},
   "outputs": [],
   "source": [
    "import requests\n",
    "from bs4 import BeautifulSoup\n",
    "import time\n",
    "\n",
    "import pandas as pd\n",
    "import numpy as np"
   ]
  },
  {
   "cell_type": "code",
   "execution_count": 3,
   "metadata": {},
   "outputs": [],
   "source": [
    "def get_text_from_genius_of(author, title):\n",
    "    author = author.replace(\" \", \"-\")\n",
    "    title = title.replace(\" \", \"-\")\n",
    "    URL = \"https://genius.com/\" + author + \"-\" + title + \"-lyrics\"\n",
    "    page = requests.get(URL)\n",
    "    soup = BeautifulSoup(page.content, \"html.parser\")\n",
    "    \n",
    "    lyrics = \"\"\n",
    "    \n",
    "    lyrics_containers = soup.find_all(\"div\", {\"data-lyrics-container\" : \"true\"})\n",
    "    \n",
    "    if len(lyrics_containers) == 0:\n",
    "        return None\n",
    "    \n",
    "    for lyrics_container in lyrics_containers:\n",
    "        for br in lyrics_container.find_all(\"br\"):\n",
    "            br.replace_with(\"\\n\")\n",
    "        lyrics += lyrics_container.text\n",
    "    \n",
    "    next_brackets = lyrics.find(\"[\")\n",
    "    while next_brackets != -1:\n",
    "        lyrics = lyrics[:next_brackets] + lyrics[lyrics.find(\"]\")+1:]\n",
    "        next_brackets = lyrics.find(\"[\")\n",
    "    \n",
    "    lyrics = lyrics.replace(\"\\n\\n\", \"\\n\").replace(\"\\n\", \" \")\n",
    "    return lyrics"
   ]
  },
  {
   "cell_type": "code",
   "execution_count": 52,
   "metadata": {
    "scrolled": false
   },
   "outputs": [
    {
     "data": {
      "text/html": [
       "<div>\n",
       "<style scoped>\n",
       "    .dataframe tbody tr th:only-of-type {\n",
       "        vertical-align: middle;\n",
       "    }\n",
       "\n",
       "    .dataframe tbody tr th {\n",
       "        vertical-align: top;\n",
       "    }\n",
       "\n",
       "    .dataframe thead th {\n",
       "        text-align: right;\n",
       "    }\n",
       "</style>\n",
       "<table border=\"1\" class=\"dataframe\">\n",
       "  <thead>\n",
       "    <tr style=\"text-align: right;\">\n",
       "      <th></th>\n",
       "      <th>track</th>\n",
       "      <th>artist</th>\n",
       "      <th>genre</th>\n",
       "      <th>valence_tags</th>\n",
       "      <th>arousal_tags</th>\n",
       "    </tr>\n",
       "  </thead>\n",
       "  <tbody>\n",
       "    <tr>\n",
       "      <th>0</th>\n",
       "      <td>Every Soul Entombed</td>\n",
       "      <td>Skáphe</td>\n",
       "      <td>black metal</td>\n",
       "      <td>3.960000</td>\n",
       "      <td>3.180000</td>\n",
       "    </tr>\n",
       "    <tr>\n",
       "      <th>1</th>\n",
       "      <td>Push Your Tush</td>\n",
       "      <td>Jessica Simpson</td>\n",
       "      <td>pop</td>\n",
       "      <td>6.216667</td>\n",
       "      <td>5.646667</td>\n",
       "    </tr>\n",
       "    <tr>\n",
       "      <th>2</th>\n",
       "      <td>Vanilla Twilight</td>\n",
       "      <td>Owl City</td>\n",
       "      <td>electronic</td>\n",
       "      <td>7.125472</td>\n",
       "      <td>4.769623</td>\n",
       "    </tr>\n",
       "    <tr>\n",
       "      <th>3</th>\n",
       "      <td>Fly With Me</td>\n",
       "      <td>Relaxing Dreams</td>\n",
       "      <td>electronic</td>\n",
       "      <td>6.840000</td>\n",
       "      <td>5.000000</td>\n",
       "    </tr>\n",
       "    <tr>\n",
       "      <th>4</th>\n",
       "      <td>The Vampire Club</td>\n",
       "      <td>Voltaire</td>\n",
       "      <td>dark cabaret</td>\n",
       "      <td>3.398125</td>\n",
       "      <td>3.245625</td>\n",
       "    </tr>\n",
       "    <tr>\n",
       "      <th>...</th>\n",
       "      <td>...</td>\n",
       "      <td>...</td>\n",
       "      <td>...</td>\n",
       "      <td>...</td>\n",
       "      <td>...</td>\n",
       "    </tr>\n",
       "    <tr>\n",
       "      <th>7495</th>\n",
       "      <td>Ride A White Swan</td>\n",
       "      <td>T. Rex</td>\n",
       "      <td>glam rock</td>\n",
       "      <td>7.940435</td>\n",
       "      <td>5.636522</td>\n",
       "    </tr>\n",
       "    <tr>\n",
       "      <th>7496</th>\n",
       "      <td>This Time</td>\n",
       "      <td>Life of Agony</td>\n",
       "      <td>hardcore</td>\n",
       "      <td>5.104828</td>\n",
       "      <td>5.682414</td>\n",
       "    </tr>\n",
       "    <tr>\n",
       "      <th>7497</th>\n",
       "      <td>Low Level (Listening, part II)</td>\n",
       "      <td>Stars of the Lid</td>\n",
       "      <td>ambient</td>\n",
       "      <td>4.965000</td>\n",
       "      <td>4.345000</td>\n",
       "    </tr>\n",
       "    <tr>\n",
       "      <th>7498</th>\n",
       "      <td>A Rainbow Aims</td>\n",
       "      <td>Brightblack Morning Light</td>\n",
       "      <td>indie</td>\n",
       "      <td>4.970000</td>\n",
       "      <td>3.570000</td>\n",
       "    </tr>\n",
       "    <tr>\n",
       "      <th>7499</th>\n",
       "      <td>Publisher</td>\n",
       "      <td>Blonde Redhead</td>\n",
       "      <td>indie rock</td>\n",
       "      <td>4.459091</td>\n",
       "      <td>3.236364</td>\n",
       "    </tr>\n",
       "  </tbody>\n",
       "</table>\n",
       "<p>7500 rows × 5 columns</p>\n",
       "</div>"
      ],
      "text/plain": [
       "                               track                     artist         genre  \\\n",
       "0                Every Soul Entombed                     Skáphe   black metal   \n",
       "1                     Push Your Tush            Jessica Simpson           pop   \n",
       "2                   Vanilla Twilight                   Owl City    electronic   \n",
       "3                        Fly With Me            Relaxing Dreams    electronic   \n",
       "4                   The Vampire Club                   Voltaire  dark cabaret   \n",
       "...                              ...                        ...           ...   \n",
       "7495               Ride A White Swan                     T. Rex     glam rock   \n",
       "7496                       This Time              Life of Agony      hardcore   \n",
       "7497  Low Level (Listening, part II)           Stars of the Lid       ambient   \n",
       "7498                  A Rainbow Aims  Brightblack Morning Light         indie   \n",
       "7499                       Publisher             Blonde Redhead    indie rock   \n",
       "\n",
       "      valence_tags  arousal_tags  \n",
       "0         3.960000      3.180000  \n",
       "1         6.216667      5.646667  \n",
       "2         7.125472      4.769623  \n",
       "3         6.840000      5.000000  \n",
       "4         3.398125      3.245625  \n",
       "...            ...           ...  \n",
       "7495      7.940435      5.636522  \n",
       "7496      5.104828      5.682414  \n",
       "7497      4.965000      4.345000  \n",
       "7498      4.970000      3.570000  \n",
       "7499      4.459091      3.236364  \n",
       "\n",
       "[7500 rows x 5 columns]"
      ]
     },
     "metadata": {},
     "output_type": "display_data"
    }
   ],
   "source": [
    "songsdata_df = pd.read_csv('batch1.csv')\n",
    "songsdata_df = songsdata_df[['track', 'artist', 'genre', 'valence_tags', 'arousal_tags']]\n",
    "display(songsdata_df)"
   ]
  },
  {
   "cell_type": "code",
   "execution_count": 44,
   "metadata": {},
   "outputs": [],
   "source": []
  },
  {
   "cell_type": "code",
   "execution_count": 53,
   "metadata": {},
   "outputs": [],
   "source": []
  },
  {
   "cell_type": "code",
   "execution_count": 54,
   "metadata": {},
   "outputs": [
    {
     "name": "stdout",
     "output_type": "stream",
     "text": [
      "0\n"
     ]
    }
   ],
   "source": [
    "def to_alfanum(txt):\n",
    "    return ''.join(ch for ch in txt if ch.isalnum() or ch == ' ')\n",
    "\n",
    "\n",
    "lyrics = []\n",
    "for i, (_, row) in enumerate(songsdata_df.iterrows()):\n",
    "    track = to_alfanum(row['track'])\n",
    "    author = to_alfanum(row['artist'])\n",
    "    text = get_text_from_genius_of(author, track)\n",
    "    lyrics.append(text)\n",
    "    if i % 1000 == 0:\n",
    "        print(i)"
   ]
  },
  {
   "cell_type": "code",
   "execution_count": 55,
   "metadata": {},
   "outputs": [
    {
     "name": "stdout",
     "output_type": "stream",
     "text": [
      "11\n"
     ]
    }
   ],
   "source": [
    "print(len([t for t in lyrics if t is None]))"
   ]
  },
  {
   "cell_type": "code",
   "execution_count": 56,
   "metadata": {},
   "outputs": [],
   "source": [
    "songsdata_df['lyrics'] = lyrics"
   ]
  },
  {
   "cell_type": "code",
   "execution_count": 57,
   "metadata": {},
   "outputs": [],
   "source": [
    "songsdata_df = songsdata_df.dropna()"
   ]
  },
  {
   "cell_type": "code",
   "execution_count": 58,
   "metadata": {},
   "outputs": [],
   "source": [
    "songsdata_df.to_csv('lyrics1.csv')"
   ]
  },
  {
   "cell_type": "code",
   "execution_count": 28,
   "metadata": {},
   "outputs": [
    {
     "data": {
      "text/plain": [
       "''"
      ]
     },
     "execution_count": 28,
     "metadata": {},
     "output_type": "execute_result"
    }
   ],
   "source": []
  },
  {
   "cell_type": "code",
   "execution_count": null,
   "metadata": {},
   "outputs": [],
   "source": []
  }
 ],
 "metadata": {
  "kernelspec": {
   "display_name": "Python 3",
   "language": "python",
   "name": "python3"
  },
  "language_info": {
   "codemirror_mode": {
    "name": "ipython",
    "version": 3
   },
   "file_extension": ".py",
   "mimetype": "text/x-python",
   "name": "python",
   "nbconvert_exporter": "python",
   "pygments_lexer": "ipython3",
   "version": "3.8.8"
  }
 },
 "nbformat": 4,
 "nbformat_minor": 4
}
