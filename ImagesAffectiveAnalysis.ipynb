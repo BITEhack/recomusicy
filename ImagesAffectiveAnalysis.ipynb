{
 "cells": [
  {
   "cell_type": "markdown",
   "id": "1d4361e3",
   "metadata": {},
   "source": [
    "# Affective categorizaion of images"
   ]
  },
  {
   "cell_type": "code",
   "execution_count": 27,
   "id": "3a595ccd",
   "metadata": {},
   "outputs": [],
   "source": [
    "import tensorflow as tf\n",
    "from PIL import Image\n",
    "import glob\n",
    "import os\n",
    "import numpy as np\n",
    "import cv2\n",
    "import pandas as pd\n",
    "import matplotlib.pyplot as plt\n",
    "from tensorflow.keras import layers \n",
    "from tensorflow.keras import Model "
   ]
  },
  {
   "cell_type": "markdown",
   "id": "ee0d2d15",
   "metadata": {},
   "source": [
    "## Load data from Emotion6\n",
    "source: http://chenlab.ece.cornell.edu/downloads.html"
   ]
  },
  {
   "cell_type": "code",
   "execution_count": 28,
   "id": "529e6d60",
   "metadata": {},
   "outputs": [],
   "source": [
    "# load data from Emotion6 directiry\n",
    "def get_images_and_labels(path):\n",
    "    size = (128, 128)\n",
    "    all_images = []\n",
    "    image_names = []\n",
    "    for filename in glob.glob(path + '*/*'):\n",
    "        img = cv2.imread(filename)\n",
    "        img = cv2.resize(img, size, interpolation=cv2.INTER_NEAREST)\n",
    "        img = np.array(img)\n",
    "        all_images.append(img.tolist())\n",
    "        image_names.append(filename.replace(path, ''))\n",
    "    return np.array(all_images), np.array(image_names)"
   ]
  },
  {
   "cell_type": "code",
   "execution_count": 29,
   "id": "0ef06c4d",
   "metadata": {},
   "outputs": [],
   "source": [
    "X, Y = get_images_and_labels(os.getcwd() + '/Emotion6/images/')"
   ]
  },
  {
   "cell_type": "code",
   "execution_count": 30,
   "id": "cdbed614",
   "metadata": {},
   "outputs": [],
   "source": [
    "# change labels from image names to valence and arousal\n",
    "# both are turned to binary to deal with class imbalance and small amount of data\n",
    "def get_v_a_labels(y, path):\n",
    "    all_labels = pd.read_csv(path + 'ground_truth.txt', delim_whitespace=True)\n",
    "    valence = []\n",
    "    arousal = []\n",
    "    for name in Y:\n",
    "        # row of image\n",
    "        row = all_labels.loc[all_labels['[image_filename]'] == name].values.tolist()[0]\n",
    "        # change continous data to 0-9 score system\n",
    "        valence.append(row[1] > 4.5)\n",
    "        arousal.append(row[2] > 4.5)\n",
    "    return np.array(valence), np.array(arousal)"
   ]
  },
  {
   "cell_type": "code",
   "execution_count": 31,
   "id": "e7ee5fc9",
   "metadata": {},
   "outputs": [],
   "source": [
    "valence, arousal = get_v_a_labels(Y, os.getcwd() + '/Emotion6/')"
   ]
  },
  {
   "cell_type": "markdown",
   "id": "d54d0e55",
   "metadata": {},
   "source": [
    "## Data preprocessing"
   ]
  },
  {
   "cell_type": "code",
   "execution_count": 32,
   "id": "79486fcb",
   "metadata": {},
   "outputs": [],
   "source": [
    "# nomrmalization\n",
    "X = X / 255.0"
   ]
  },
  {
   "cell_type": "code",
   "execution_count": 33,
   "id": "f4d74914",
   "metadata": {},
   "outputs": [],
   "source": [
    "# join valence and arousal into matrix 2 x 2\n",
    "joinedY = valence * 10 + arousal\n",
    "for i in range(len(joinedY)):\n",
    "    if joinedY[i] == 10:\n",
    "        joinedY[i] = 2\n",
    "    if joinedY[i] == 11:\n",
    "        joinedY[i] = 3"
   ]
  },
  {
   "cell_type": "code",
   "execution_count": 34,
   "id": "5c29a9fe",
   "metadata": {},
   "outputs": [],
   "source": [
    "# randomly shuffle data\n",
    "shuffler = np.random.permutation(X.shape[0])\n",
    "\n",
    "X = X[shuffler]\n",
    "joinedY = joinedY[shuffler]"
   ]
  },
  {
   "cell_type": "code",
   "execution_count": 35,
   "id": "125fe780",
   "metadata": {},
   "outputs": [],
   "source": [
    "# split\n",
    "X_train, X_test = np.split(X, [int(len(X) * 0.9)])\n",
    "joinedY_train, joinedY_test = np.split(joinedY, [int(len(joinedY) * 0.9)])"
   ]
  },
  {
   "cell_type": "code",
   "execution_count": 36,
   "id": "26614be7",
   "metadata": {},
   "outputs": [],
   "source": [
    "# one-hot encoding\n",
    "joinedY_train = tf.one_hot(joinedY_train, 4)\n",
    "joinedY_test = tf.one_hot(joinedY_test, 4)"
   ]
  },
  {
   "cell_type": "code",
   "execution_count": 37,
   "id": "44f6ff37",
   "metadata": {},
   "outputs": [],
   "source": [
    "batch_size = 32\n",
    "input_shape = (128, 128, 3)"
   ]
  },
  {
   "cell_type": "markdown",
   "id": "7ab65491",
   "metadata": {},
   "source": [
    "## Inecptionv3\n",
    "Use pretrained Inecptionv3 model"
   ]
  },
  {
   "cell_type": "code",
   "execution_count": 38,
   "id": "32e4f642",
   "metadata": {},
   "outputs": [],
   "source": [
    "# load and freeze base model\n",
    "from tensorflow.keras.applications.inception_v3 import InceptionV3\n",
    "base_model = InceptionV3(input_shape = input_shape, include_top = False, weights = 'imagenet')\n",
    "\n",
    "for layer in base_model.layers:\n",
    "    layer.trainable = False"
   ]
  },
  {
   "cell_type": "code",
   "execution_count": 44,
   "id": "11842513",
   "metadata": {},
   "outputs": [],
   "source": [
    "# add custom layer\n",
    "from tensorflow.keras.optimizers import RMSprop\n",
    "\n",
    "x = layers.Flatten()(base_model.output)\n",
    "x = layers.Dense(1024, activation='relu')(x)\n",
    "x = layers.Dropout(0.2)(x)\n",
    "\n",
    "# Add a final sigmoid layer with 1 node for classification output\n",
    "x = layers.Dense(4, activation='sigmoid')(x) # 4 - number of classes\n",
    "\n",
    "model = tf.keras.models.Model(base_model.input, x)\n",
    "\n",
    "model.compile(optimizer = RMSprop(learning_rate=0.00001), loss = 'binary_crossentropy', metrics = ['acc'])"
   ]
  },
  {
   "cell_type": "code",
   "execution_count": 45,
   "id": "9166273b",
   "metadata": {},
   "outputs": [
    {
     "name": "stdout",
     "output_type": "stream",
     "text": [
      "Epoch 1/15\n",
      "39/39 [==============================] - 12s 246ms/step - loss: 0.7203 - acc: 0.3913 - val_loss: 0.6155 - val_acc: 0.4654\n",
      "Epoch 2/15\n",
      "39/39 [==============================] - 9s 235ms/step - loss: 0.5905 - acc: 0.4787 - val_loss: 0.6110 - val_acc: 0.4411\n",
      "Epoch 3/15\n",
      "39/39 [==============================] - 9s 237ms/step - loss: 0.5237 - acc: 0.5261 - val_loss: 0.5823 - val_acc: 0.4897\n",
      "Epoch 4/15\n",
      "39/39 [==============================] - 10s 253ms/step - loss: 0.4608 - acc: 0.5862 - val_loss: 0.5674 - val_acc: 0.5047\n",
      "Epoch 5/15\n",
      "39/39 [==============================] - 10s 252ms/step - loss: 0.4109 - acc: 0.6311 - val_loss: 0.5627 - val_acc: 0.4860\n",
      "Epoch 6/15\n",
      "39/39 [==============================] - 10s 254ms/step - loss: 0.3755 - acc: 0.6832 - val_loss: 0.5655 - val_acc: 0.4916\n",
      "Epoch 7/15\n",
      "39/39 [==============================] - 9s 243ms/step - loss: 0.3479 - acc: 0.7121 - val_loss: 0.5549 - val_acc: 0.4729\n",
      "Epoch 8/15\n",
      "39/39 [==============================] - 10s 257ms/step - loss: 0.3087 - acc: 0.7634 - val_loss: 0.5563 - val_acc: 0.4972\n",
      "Epoch 9/15\n",
      "39/39 [==============================] - 10s 254ms/step - loss: 0.2825 - acc: 0.8043 - val_loss: 0.5530 - val_acc: 0.4897\n",
      "Epoch 10/15\n",
      "39/39 [==============================] - 10s 252ms/step - loss: 0.2669 - acc: 0.8180 - val_loss: 0.5599 - val_acc: 0.4953\n",
      "Epoch 11/15\n",
      "39/39 [==============================] - 10s 251ms/step - loss: 0.2400 - acc: 0.8621 - val_loss: 0.5573 - val_acc: 0.4860\n",
      "Epoch 12/15\n",
      "39/39 [==============================] - 10s 250ms/step - loss: 0.2177 - acc: 0.8901 - val_loss: 0.5570 - val_acc: 0.4935\n",
      "Epoch 13/15\n",
      "39/39 [==============================] - 10s 252ms/step - loss: 0.1990 - acc: 0.9182 - val_loss: 0.5686 - val_acc: 0.4841\n",
      "Epoch 14/15\n",
      "39/39 [==============================] - 10s 250ms/step - loss: 0.1861 - acc: 0.9294 - val_loss: 0.5605 - val_acc: 0.4935\n",
      "Epoch 15/15\n",
      "39/39 [==============================] - 10s 258ms/step - loss: 0.1708 - acc: 0.9350 - val_loss: 0.5766 - val_acc: 0.4953\n"
     ]
    }
   ],
   "source": [
    "inc_history = model.fit(X_train, joinedY_train, batch_size=batch_size, epochs=15, validation_split=0.3)"
   ]
  },
  {
   "cell_type": "code",
   "execution_count": 46,
   "id": "79b25ae2",
   "metadata": {
    "scrolled": true
   },
   "outputs": [
    {
     "data": {
      "image/png": "[encoded data removed]",
      "text/plain": [
       "<Figure size 432x288 with 2 Axes>"
      ]
     },
     "metadata": {
      "needs_background": "light"
     },
     "output_type": "display_data"
    }
   ],
   "source": [
    " # loss and accuracy curvers\n",
    "fig, ax = plt.subplots(2,1)\n",
    "ax[0].plot(inc_history.history['loss'], color='b', label=\"Training Loss\")\n",
    "ax[0].plot(inc_history.history['val_loss'], color='r', label=\"Validation Loss\",axes =ax[0])\n",
    "legend = ax[0].legend(loc='best', shadow=True)\n",
    "\n",
    "ax[1].plot(inc_history.history['acc'], color='b', label=\"Training Accuracy\")\n",
    "ax[1].plot(inc_history.history['val_acc'], color='r',label=\"Validation Accuracy\")\n",
    "legend = ax[1].legend(loc='best', shadow=True)"
   ]
  },
  {
   "cell_type": "code",
   "execution_count": 48,
   "id": "5541163c",
   "metadata": {},
   "outputs": [
    {
     "name": "stdout",
     "output_type": "stream",
     "text": [
      "7/7 [==============================] - 1s 119ms/step - loss: 0.5920 - acc: 0.4798\n"
     ]
    }
   ],
   "source": [
    "# test model\n",
    "test_loss, test_acc = model.evaluate(X_test, joinedY_test)"
   ]
  },
  {
   "cell_type": "markdown",
   "id": "f08b4ac9",
   "metadata": {},
   "source": [
    "## Inceptionv3 with full training"
   ]
  },
  {
   "cell_type": "code",
   "execution_count": 55,
   "id": "a9c88dee",
   "metadata": {},
   "outputs": [],
   "source": [
    "base_model = InceptionV3(input_shape = input_shape, include_top = False, weights = 'imagenet')\n",
    "\n",
    "# add custom layer\n",
    "from tensorflow.keras.optimizers import RMSprop\n",
    "\n",
    "x = layers.Flatten()(base_model.output)\n",
    "x = layers.Dense(1024, activation='relu')(x)\n",
    "x = layers.Dropout(0.2)(x)\n",
    "\n",
    "# Add a final sigmoid layer with 1 node for classification output\n",
    "x = layers.Dense(4, activation='sigmoid')(x) # 4 - number of classes\n",
    "\n",
    "model = tf.keras.models.Model(base_model.input, x)\n",
    "\n",
    "model.compile(optimizer = RMSprop(learning_rate=0.00001), loss = 'binary_crossentropy', metrics = ['acc'])"
   ]
  },
  {
   "cell_type": "code",
   "execution_count": null,
   "id": "2d2f2a9e",
   "metadata": {},
   "outputs": [
    {
     "name": "stdout",
     "output_type": "stream",
     "text": [
      "Epoch 1/25\n",
      "39/39 [==============================] - 51s 1s/step - loss: 0.5847 - acc: 0.3873 - val_loss: 0.6664 - val_acc: 0.4748\n",
      "Epoch 2/25\n",
      "39/39 [==============================] - 41s 1s/step - loss: 0.5275 - acc: 0.4691 - val_loss: 0.5790 - val_acc: 0.4766\n",
      "Epoch 3/25\n",
      "39/39 [==============================] - 41s 1s/step - loss: 0.4941 - acc: 0.5076 - val_loss: 0.5582 - val_acc: 0.4860\n",
      "Epoch 4/25\n",
      "39/39 [==============================] - 41s 1s/step - loss: 0.4715 - acc: 0.5405 - val_loss: 0.5259 - val_acc: 0.4860\n",
      "Epoch 5/25\n",
      "39/39 [==============================] - 43s 1s/step - loss: 0.4408 - acc: 0.5830 - val_loss: 0.5148 - val_acc: 0.4972\n",
      "Epoch 6/25\n",
      "39/39 [==============================] - 41s 1s/step - loss: 0.4279 - acc: 0.6047 - val_loss: 0.5153 - val_acc: 0.5252\n",
      "Epoch 7/25\n",
      "39/39 [==============================] - 41s 1s/step - loss: 0.4002 - acc: 0.6359 - val_loss: 0.5199 - val_acc: 0.5103\n",
      "Epoch 8/25\n",
      "39/39 [==============================] - 40s 1s/step - loss: 0.3765 - acc: 0.6760 - val_loss: 0.5341 - val_acc: 0.4897\n",
      "Epoch 9/25\n",
      "39/39 [==============================] - 42s 1s/step - loss: 0.3495 - acc: 0.7081 - val_loss: 0.5362 - val_acc: 0.5009\n",
      "Epoch 10/25\n",
      "39/39 [==============================] - 42s 1s/step - loss: 0.3256 - acc: 0.7314 - val_loss: 0.5420 - val_acc: 0.5159\n",
      "Epoch 11/25\n",
      "39/39 [==============================] - 41s 1s/step - loss: 0.3044 - acc: 0.7538 - val_loss: 0.5532 - val_acc: 0.5140\n",
      "Epoch 12/25\n",
      "39/39 [==============================] - 41s 1s/step - loss: 0.2793 - acc: 0.7883 - val_loss: 0.5684 - val_acc: 0.5103\n",
      "Epoch 13/25\n",
      "39/39 [==============================] - 42s 1s/step - loss: 0.2685 - acc: 0.8099 - val_loss: 0.5688 - val_acc: 0.5084\n",
      "Epoch 14/25\n",
      "39/39 [==============================] - 42s 1s/step - loss: 0.2387 - acc: 0.8380 - val_loss: 0.5948 - val_acc: 0.4897\n",
      "Epoch 15/25\n",
      "39/39 [==============================] - 42s 1s/step - loss: 0.2170 - acc: 0.8549 - val_loss: 0.6298 - val_acc: 0.5084\n",
      "Epoch 16/25\n",
      "39/39 [==============================] - 42s 1s/step - loss: 0.2015 - acc: 0.8821 - val_loss: 0.6272 - val_acc: 0.5121\n",
      "Epoch 17/25\n",
      "39/39 [==============================] - 43s 1s/step - loss: 0.1832 - acc: 0.8990 - val_loss: 0.6696 - val_acc: 0.5047\n",
      "Epoch 18/25\n",
      "39/39 [==============================] - 40s 1s/step - loss: 0.1628 - acc: 0.9070 - val_loss: 0.6767 - val_acc: 0.5065\n",
      "Epoch 19/25\n",
      "39/39 [==============================] - 42s 1s/step - loss: 0.1472 - acc: 0.9262 - val_loss: 0.7212 - val_acc: 0.4897\n",
      "Epoch 20/25\n",
      "39/39 [==============================] - 45s 1s/step - loss: 0.1371 - acc: 0.9350 - val_loss: 0.6985 - val_acc: 0.4897\n",
      "Epoch 21/25\n",
      "39/39 [==============================] - 44s 1s/step - loss: 0.1160 - acc: 0.9479 - val_loss: 0.7285 - val_acc: 0.4841\n",
      "Epoch 22/25\n",
      "39/39 [==============================] - 42s 1s/step - loss: 0.1165 - acc: 0.9431 - val_loss: 0.7548 - val_acc: 0.5009\n",
      "Epoch 23/25\n",
      "39/39 [==============================] - 41s 1s/step - loss: 0.0993 - acc: 0.9583 - val_loss: 0.7894 - val_acc: 0.4953\n",
      "Epoch 24/25\n",
      "39/39 [==============================] - 42s 1s/step - loss: 0.0901 - acc: 0.9671 - val_loss: 0.8029 - val_acc: 0.5084\n",
      "Epoch 25/25\n",
      "27/39 [===================>..........] - ETA: 12s - loss: 0.0782 - acc: 0.9676"
     ]
    }
   ],
   "source": [
    "inc_history = model.fit(X_train, joinedY_train, batch_size=batch_size, epochs=25, validation_split=0.3)"
   ]
  },
  {
   "cell_type": "code",
   "execution_count": null,
   "id": "f959033b",
   "metadata": {},
   "outputs": [],
   "source": [
    " # loss and accuracy curvers\n",
    "fig, ax = plt.subplots(2,1)\n",
    "ax[0].plot(inc_history.history['loss'], color='b', label=\"Training Loss\")\n",
    "ax[0].plot(inc_history.history['val_loss'], color='r', label=\"Validation Loss\",axes =ax[0])\n",
    "legend = ax[0].legend(loc='best', shadow=True)\n",
    "\n",
    "ax[1].plot(inc_history.history['acc'], color='b', label=\"Training Accuracy\")\n",
    "ax[1].plot(inc_history.history['val_acc'], color='r',label=\"Validation Accuracy\")\n",
    "legend = ax[1].legend(loc='best', shadow=True)"
   ]
  },
  {
   "cell_type": "code",
   "execution_count": null,
   "id": "cbd0f5e3",
   "metadata": {},
   "outputs": [],
   "source": [
    "# test model\n",
    "test_loss, test_acc = model.evaluate(x_test, y_test)"
   ]
  },
  {
   "cell_type": "code",
   "execution_count": null,
   "id": "c2a669d4",
   "metadata": {},
   "outputs": [],
   "source": [
    "# save model\n",
    "model.save('my_model.h5')"
   ]
  }
 ],
 "metadata": {
  "kernelspec": {
   "display_name": "Python 3 (ipykernel)",
   "language": "python",
   "name": "python3"
  },
  "language_info": {
   "codemirror_mode": {
    "name": "ipython",
    "version": 3
   },
   "file_extension": ".py",
   "mimetype": "text/x-python",
   "name": "python",
   "nbconvert_exporter": "python",
   "pygments_lexer": "ipython3",
   "version": "3.9.7"
  }
 },
 "nbformat": 4,
 "nbformat_minor": 5
}
